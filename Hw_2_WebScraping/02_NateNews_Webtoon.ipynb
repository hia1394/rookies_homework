{
 "cells": [
  {
   "cell_type": "code",
   "execution_count": 41,
   "id": "f6802752",
   "metadata": {},
   "outputs": [],
   "source": [
    "import requests\n",
    "from bs4 import BeautifulSoup\n",
    "from IPython.display import Image, display\n",
    "from urllib.parse import urljoin\n",
    "\n",
    "section_dict = {'최신뉴스':100,'정치':200,'경제':300,'사회':400,'생활/문화':500,'세계':600,'IT/과학':700}\n",
    "\n",
    "\n",
    "def print_news(section):\n",
    "    sid = section_dict[section] \n",
    "    url = f'https://news.nate.com/recent?mid=n0{sid}'\n",
    "    print(f'{url} {section} 뉴스')\n",
    "\n",
    "    req_header = {\n",
    "        'referer': url,\n",
    "        \"user-agent\": \"Mozilla/5.0 (Windows NT 10.0; Win64; x64) AppleWebKit/537.36 (KHTML, like Gecko) Chrome/104.0.0.0 Safari/537.36\"\n",
    "    }\n",
    "\n",
    "    res = requests.get(url,headers = req_header)\n",
    "\n",
    "\n",
    "    if res.ok:\n",
    "        html = res.text\n",
    "        soup = BeautifulSoup(html, \"html.parser\")\n",
    "\n",
    "        a_tags = soup.select(\"div.mlt01 a[href*='view'].lt1\")\n",
    "\n",
    "        for a_tag in a_tags:\n",
    "            if a_tag.text:\n",
    "                link = a_tag['href']\t\n",
    "                title = a_tag.text.strip()\n",
    "                img_tag = a_tag.select_one('span.ib img')\n",
    "                if img_tag:\n",
    "                    img_url = urljoin(url,img_tag['src'])\n",
    "                    display(Image(url=img_url))                \n",
    "                print(f'https:{link}')\n",
    "                print(f'{title}\\n')\n",
    "\n",
    "\n",
    "                "
   ]
  },
  {
   "cell_type": "code",
   "execution_count": null,
   "id": "8c8a6c0f",
   "metadata": {},
   "outputs": [],
   "source": [
    "print_news('정치')"
   ]
  },
  {
   "cell_type": "code",
   "execution_count": 1,
   "id": "801aa18c",
   "metadata": {},
   "outputs": [],
   "source": [
    "import requests\n",
    "from bs4 import BeautifulSoup\n",
    "import os\n",
    "\n",
    "def download_one_episode(title,no,url):\n",
    "    req_header = {\n",
    "        'referer' : url,\n",
    "        \"user-agent\": \"Mozilla/5.0 (Windows NT 10.0; Win64; x64) AppleWebKit/537.36 (KHTML, like Gecko) Chrome/104.0.0.0 Safari/537.36\"\n",
    "    }\n",
    "    imgdir_name = os.path.join('img',title,str(no))\n",
    "    os.makedirs(imgdir_name, exist_ok=True)\n",
    "\n",
    "    res = requests.get(url)\n",
    "    if not res.ok:\n",
    "        print(f'Error Code = {res.status_code}')\n",
    "        exit()\n",
    "\n",
    "    soup = BeautifulSoup(res.text, 'html.parser')\n",
    "    img_url_list = [img_tag['src'] for img_tag in soup.select(\"img[src*='IMAG01']\")]\n",
    "\n",
    "    for img_url in img_url_list:\n",
    "        res = requests.get(img_url, headers=req_header)\n",
    "        if res.ok:\n",
    "            img_data = res.content\n",
    "            file_path = os.path.join(imgdir_name, os.path.basename(img_url))\n",
    "            with open(file_path, 'wb') as file:\n",
    "                print(f'Writing to {file_path} ({len(img_data):,} bytes)')\n",
    "                file.write(img_data)\n",
    "        else:\n",
    "            print(f'Error Code = {res.status_code} for {img_url}')"
   ]
  },
  {
   "cell_type": "code",
   "execution_count": null,
   "id": "6ea42504",
   "metadata": {},
   "outputs": [],
   "source": [
    "download_one_episode('이직로그','10화','https://comic.naver.com/webtoon/detail?titleId=837659&no=10&week=mon')"
   ]
  }
 ],
 "metadata": {
  "kernelspec": {
   "display_name": "base",
   "language": "python",
   "name": "python3"
  },
  "language_info": {
   "codemirror_mode": {
    "name": "ipython",
    "version": 3
   },
   "file_extension": ".py",
   "mimetype": "text/x-python",
   "name": "python",
   "nbconvert_exporter": "python",
   "pygments_lexer": "ipython3",
   "version": "3.12.7"
  }
 },
 "nbformat": 4,
 "nbformat_minor": 5
}
