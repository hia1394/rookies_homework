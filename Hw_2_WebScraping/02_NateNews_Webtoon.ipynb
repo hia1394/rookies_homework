{
 "cells": [
  {
   "cell_type": "code",
   "execution_count": 37,
   "id": "f6802752",
   "metadata": {},
   "outputs": [],
   "source": [
    "import requests\n",
    "from bs4 import BeautifulSoup\n",
    "from IPython.display import Image, display\n",
    "from urllib.parse import urljoin\n",
    "\n",
    "section_dict = {'최신뉴스':100,'정치':200,'경제':300,'사회':400,'생활/문화':500,'세계':600,'IT/과학':700}\n",
    "\n",
    "\n",
    "def print_news(section):\n",
    "    sid = section_dict[section] \n",
    "    url = f'https://news.nate.com/recent?mid=n0{sid}'\n",
    "    print(f'{url} {section} 뉴스')\n",
    "\n",
    "    req_header = {\n",
    "        'referer': url,\n",
    "        \"user-agent\": \"Mozilla/5.0 (Windows NT 10.0; Win64; x64) AppleWebKit/537.36 (KHTML, like Gecko) Chrome/104.0.0.0 Safari/537.36\"\n",
    "    }\n",
    "\n",
    "    res = requests.get(url,headers = req_header)\n",
    "\n",
    "\n",
    "    if res.ok:\n",
    "        html = res.text\n",
    "        soup = BeautifulSoup(html, \"html.parser\")\n",
    "\n",
    "        a_tags = soup.select(\"div.mlt01 a[href*='view'].lt1\")\n",
    "\n",
    "        for a_tag in a_tags:\n",
    "            if a_tag.text:\n",
    "                link = a_tag['href']\t\n",
    "                title = a_tag.text.strip()\n",
    "                img_tag = a_tag.select_one('span.ib img')\n",
    "                if img_tag:\n",
    "                    img_url = urljoin(url,img_tag['src'])\n",
    "                    display(Image(url=img_url))                \n",
    "                print(title)\n",
    "                print(f'https:{link}\\n')\n",
    "\n",
    "                "
   ]
  },
  {
   "cell_type": "code",
   "execution_count": 38,
   "id": "8c8a6c0f",
   "metadata": {},
   "outputs": [
    {
     "name": "stdout",
     "output_type": "stream",
     "text": [
      "https://news.nate.com/recent?mid=n0200 정치 뉴스\n"
     ]
    },
    {
     "data": {
      "text/html": [
       "<img src=\"https://thumbnews.nateimg.co.kr/news90///news.nateimg.co.kr/orgImg/yn/2025/07/24/202507240211099507_t.jpg\"/>"
      ],
      "text/plain": [
       "<IPython.core.display.Image object>"
      ]
     },
     "metadata": {},
     "output_type": "display_data"
    },
    {
     "name": "stdout",
     "output_type": "stream",
     "text": [
      "민주 \"특별재난지역 추가 선포 예정…물가 안정 대책 마련\"\n",
      "\t\t\t\t\t\t\t\t\t\t\t\t\t\t\t\t\t더불어민주당은 전국적인 폭우 피해와 관련해 중앙재난안전대책본부의 조사가 마무리되면 정부가 특별재난지역을 추가로 선포할 예정이라고 밝혔습니다. 김병기 당 대표 직...\n",
      "https://news.nate.com/view/20250724n00741?mid=n0200\n",
      "\n"
     ]
    },
    {
     "data": {
      "text/html": [
       "<img src=\"https://thumbnews.nateimg.co.kr/news90///news.nateimg.co.kr/orgImg/mt/2025/07/24/2025072310232031641_1.jpg\"/>"
      ],
      "text/plain": [
       "<IPython.core.display.Image object>"
      ]
     },
     "metadata": {},
     "output_type": "display_data"
    },
    {
     "name": "stdout",
     "output_type": "stream",
     "text": [
      "[투데이 窓]의료 인공지능 '1대 강국'으로 가는 길\n",
      "\t\t\t\t\t\t\t\t\t\t\t\t\t\t\t\t\t최윤섭 디지털헬스케어파트너스 대표 필자는 지난 칼럼에서 이번 정부가 천명한 'AI(인공지능) 3대 강국'이라는 야심 찬 목표를 의료AI에서 시작하자는 화두를 던졌다. 한...\n",
      "https://news.nate.com/view/20250724n00729?mid=n0200\n",
      "\n"
     ]
    },
    {
     "data": {
      "text/html": [
       "<img src=\"https://thumbnews.nateimg.co.kr/news90///news.nateimg.co.kr/orgImg/mt/2025/07/24/2025072314460584651_1.jpg\"/>"
      ],
      "text/plain": [
       "<IPython.core.display.Image object>"
      ]
     },
     "metadata": {},
     "output_type": "display_data"
    },
    {
     "name": "stdout",
     "output_type": "stream",
     "text": [
      "[MT시평]트럼프 칼날, 한국 경제 '넥스트'는?\n",
      "\t\t\t\t\t\t\t\t\t\t\t\t\t\t\t\t\t장상식 한국무역협회 국제무역통상연구원장 최근 영국, 베트남, 인도네시아가 미국과 협상을 통해 일부 관세율 인하를 얻어냈지만 한국을 포함한 일본, 유럽연합(EU), 멕시...\n",
      "https://news.nate.com/view/20250724n00728?mid=n0200\n",
      "\n"
     ]
    },
    {
     "data": {
      "text/html": [
       "<img src=\"https://thumbnews.nateimg.co.kr/news90///news.nateimg.co.kr/orgImg/yn/2025/07/24/202507240157074887_t.jpg\"/>"
      ],
      "text/plain": [
       "<IPython.core.display.Image object>"
      ]
     },
     "metadata": {},
     "output_type": "display_data"
    },
    {
     "name": "stdout",
     "output_type": "stream",
     "text": [
      "장동혁, 국민의힘 당 대표 출사표…\"이기는 정당 만들 것\"\n",
      "\t\t\t\t\t\t\t\t\t\t\t\t\t\t\t\t\t국민의힘 장동혁 의원이 당 대표 선거 출마를 공식화하며, 내부 총질 대신, 국민의힘을 하나로 모아 이기는 정당을 만들겠다고 강조했습니다. 장 의원은 어제(23일) 국회 ...\n",
      "https://news.nate.com/view/20250724n00725?mid=n0200\n",
      "\n"
     ]
    },
    {
     "data": {
      "text/html": [
       "<img src=\"https://thumbnews.nateimg.co.kr/news90///news.nateimg.co.kr/orgImg/yn/2025/07/24/202507240157210229_t.jpg\"/>"
      ],
      "text/plain": [
       "<IPython.core.display.Image object>"
      ]
     },
     "metadata": {},
     "output_type": "display_data"
    },
    {
     "name": "stdout",
     "output_type": "stream",
     "text": [
      "국민의힘 주진우 '깜짝 출사표'…\"젊고 강한 보수\"\n",
      "\t\t\t\t\t\t\t\t\t\t\t\t\t\t\t\t\t국민의힘 주진우 의원은 차기 전당대회에 '깜짝 출사표'를 던졌습니다. 주 의원은 어제(23일) 자신의 SNS에 당내 만연한 갈등과 무기력의 악순환을 끊어내고 젊고 강한 보...\n",
      "https://news.nate.com/view/20250724n00724?mid=n0200\n",
      "\n"
     ]
    },
    {
     "data": {
      "text/html": [
       "<img src=\"https://thumbnews.nateimg.co.kr/news90///news.nateimg.co.kr/orgImg/sv/2025/07/24/202094344_700.jpg\"/>"
      ],
      "text/plain": [
       "<IPython.core.display.Image object>"
      ]
     },
     "metadata": {},
     "output_type": "display_data"
    },
    {
     "name": "stdout",
     "output_type": "stream",
     "text": [
      "혁신안 논의 또 불발…장동혁 · 주진우 출마 선언\n",
      "\t\t\t\t\t\t\t\t\t\t\t\t\t\t\t\t\t<앵커>\n",
      "\n",
      "혁신안 논의를 위한 국민의힘 의원총회가 두 차례 열렸지만, 결정이 또 미뤄졌습니다. 이런 가운데 재선의 장동혁, 초선의 주진우 의원이 당 대표 ...\n",
      "https://news.nate.com/view/20250724n00545?mid=n0200\n",
      "\n"
     ]
    },
    {
     "data": {
      "text/html": [
       "<img src=\"https://thumbnews.nateimg.co.kr/news90///news.nateimg.co.kr/orgImg/kx/2025/07/24/2025072320460416735_1753271164_1753252687.jpg\"/>"
      ],
      "text/plain": [
       "<IPython.core.display.Image object>"
      ]
     },
     "metadata": {},
     "output_type": "display_data"
    },
    {
     "name": "stdout",
     "output_type": "stream",
     "text": [
      "\"다시 일어난 한국 보고싶다\"…69년 만에 방문하는 참전용사들\n",
      "\t\t\t\t\t\t\t\t\t\t\t\t\t\t\t\t\t클리포드 피어슨(92)은 72년 전인 1953년 3월 영국 육군 병장 신분으로 한국전쟁에 참전했다. 왕립 전기기계공병대 소속이던 그는 전투 중 손상된 군용차량을 회수하는 임...\n",
      "https://news.nate.com/view/20250724n00517?mid=n0200\n",
      "\n"
     ]
    },
    {
     "data": {
      "text/html": [
       "<img src=\"https://thumbnews.nateimg.co.kr/news90///news.nateimg.co.kr/orgImg/ch/2025/07/24/ch_1753286193611_661660_0.jpg\"/>"
      ],
      "text/plain": [
       "<IPython.core.display.Image object>"
      ]
     },
     "metadata": {},
     "output_type": "display_data"
    },
    {
     "name": "stdout",
     "output_type": "stream",
     "text": [
      "李가 직접 발탁했는데…민변 출신 국정상황실장, 대통령실이 버거웠나\n",
      "\t\t\t\t\t\t\t\t\t\t\t\t\t\t\t\t\t송기호 국정상황실장/뉴스1이재명 대통령이 임명 한 달여밖에 되지 않은 송기호 국정상황실장을 교체키로 한 결정을 두고 여권 내에서 대통령실 인사 시스템에 대한 우려가...\n",
      "https://news.nate.com/view/20250724n00466?mid=n0200\n",
      "\n",
      "의원 앞에선 乙인 보좌관, 정부 부처·기업 앞에선 甲\n",
      "\t\t\t\t\t\t\t\t\t\t\t\t\t\t\t\t\t국회의원 보좌진은 의원에게는 ‘을(乙)‘이지만 동년배 공무원과 비교해 큰 권한을 누리기도 한다. 정부 부처에는 자료 제출을 요구할 수 있고, 입법이나 기업인 증인 채택에 영향을 미치기 때문에 기업도 눈치를 ...\n",
      "https://news.nate.com/view/20250724n00465?mid=n0200\n",
      "\n"
     ]
    },
    {
     "data": {
      "text/html": [
       "<img src=\"https://thumbnews.nateimg.co.kr/news90///news.nateimg.co.kr/orgImg/ch/2025/07/24/ch_1753286192641_149725_0.jpg\"/>"
      ],
      "text/plain": [
       "<IPython.core.display.Image object>"
      ]
     },
     "metadata": {},
     "output_type": "display_data"
    },
    {
     "name": "stdout",
     "output_type": "stream",
     "text": [
      "금액별로 색상 나눈 민생 쿠폰 선불카드…李 \"바로잡아라\" 질타\n",
      "\t\t\t\t\t\t\t\t\t\t\t\t\t\t\t\t\t이재명 대통령은 23일 일부 지방자치단체가 민생회복 소비쿠폰이 지급된 선불카드를 금액에 따라 색상을 달리한 것을 두고 “인권 감수성이 떨어진다. 즉각 바로 잡으라”...\n",
      "https://news.nate.com/view/20250724n00463?mid=n0200\n",
      "\n"
     ]
    },
    {
     "data": {
      "text/html": [
       "<img src=\"https://thumbnews.nateimg.co.kr/news90///news.nateimg.co.kr/orgImg/ch/2025/07/24/ch_1753286192343_162994_0.jpg\"/>"
      ],
      "text/plain": [
       "<IPython.core.display.Image object>"
      ]
     },
     "metadata": {},
     "output_type": "display_data"
    },
    {
     "name": "stdout",
     "output_type": "stream",
     "text": [
      "박찬대의 '한 방'\n",
      "\t\t\t\t\t\t\t\t\t\t\t\t\t\t\t\t\t더불어민주당 당대표 선거에 출마한 박찬대 후보는 23일 오후 페이스북에 “이재명 정부의 성공을 위해 어렵고 힘들지만 결정해야 한다”며 “강선우 여성가족부 장관 후보...\n",
      "https://news.nate.com/view/20250724n00462?mid=n0200\n",
      "\n",
      "의원들 직접 운전해 수해 지역 찾아 봉사\n",
      "\t\t\t\t\t\t\t\t\t\t\t\t\t\t\t\t\t“의원님들이 달라졌어요. 이런 게 바로 ‘강선우 효과’죠.”강선우 여성가족부 장관 후보자가 23일 자진 사퇴 의사를 밝힌 직후 국민의힘 소속 보좌관은 이렇게 말했다. ‘보좌진 갑질’ 논란이 커지자 의원들이 ...\n",
      "https://news.nate.com/view/20250724n00460?mid=n0200\n",
      "\n"
     ]
    },
    {
     "data": {
      "text/html": [
       "<img src=\"https://thumbnews.nateimg.co.kr/news90///news.nateimg.co.kr/orgImg/ch/2025/07/24/ch_1753286180836_590347_0.jpg\"/>"
      ],
      "text/plain": [
       "<IPython.core.display.Image object>"
      ]
     },
     "metadata": {},
     "output_type": "display_data"
    },
    {
     "name": "stdout",
     "output_type": "stream",
     "text": [
      "[News&How] 개털 깎고 땅콩 까고 밥 짓고…\"보좌관은 의원님 몸종\"\n",
      "\t\t\t\t\t\t\t\t\t\t\t\t\t\t\t\t\t국민의힘 보좌진이 강선우 여성가족부 장관 후보자 인사청문회가 열린 지난 14일 국회 본청에서 강 후보자의 사퇴를 촉구하는 피켓시위를 하고 있다. 강 후보자는 ‘보좌진...\n",
      "https://news.nate.com/view/20250724n00459?mid=n0200\n",
      "\n"
     ]
    },
    {
     "data": {
      "text/html": [
       "<img src=\"https://thumbnews.nateimg.co.kr/news90///news.nateimg.co.kr/orgImg/ch/2025/07/24/ch_1753286175935_464181_0.jpg\"/>"
      ],
      "text/plain": [
       "<IPython.core.display.Image object>"
      ]
     },
     "metadata": {},
     "output_type": "display_data"
    },
    {
     "name": "stdout",
     "output_type": "stream",
     "text": [
      "여론 나빠지고 與 분열 조짐…대통령실도 고개 돌렸다\n",
      "\t\t\t\t\t\t\t\t\t\t\t\t\t\t\t\t\t강선우 여성가족부 장관 후보자가 지난 14일 서울 여의도 국회에서 열린 인사청문회에 출석해 의원 질의를 경청하고 굳은 표정을 짓고 있다./뉴스1 강선우 여성가족부 장관...\n",
      "https://news.nate.com/view/20250724n00457?mid=n0200\n",
      "\n"
     ]
    },
    {
     "data": {
      "text/html": [
       "<img src=\"https://thumbnews.nateimg.co.kr/news90///news.nateimg.co.kr/orgImg/ch/2025/07/24/ch_1753286174848_961417_0.jpg\"/>"
      ],
      "text/plain": [
       "<IPython.core.display.Image object>"
      ]
     },
     "metadata": {},
     "output_type": "display_data"
    },
    {
     "name": "stdout",
     "output_type": "stream",
     "text": [
      "'갑질' 강선우 결국 사퇴\n",
      "\t\t\t\t\t\t\t\t\t\t\t\t\t\t\t\t\t‘보좌진 갑질’ 논란에 휩싸였던 강선우 여성가족부 장관 후보자가 23일 자진 사퇴했다. 이재명 정부 들어 이진숙 교육부 장관 후보자에 이어 두 번째 장관 후보자 낙마로...\n",
      "https://news.nate.com/view/20250724n00455?mid=n0200\n",
      "\n"
     ]
    },
    {
     "data": {
      "text/html": [
       "<img src=\"https://thumbnews.nateimg.co.kr/news90///news.nateimg.co.kr/orgImg/ch/2025/07/24/ch_1753286108412_51957_0.jpg\"/>"
      ],
      "text/plain": [
       "<IPython.core.display.Image object>"
      ]
     },
     "metadata": {},
     "output_type": "display_data"
    },
    {
     "name": "stdout",
     "output_type": "stream",
     "text": [
      "새 정부 '통합 돌봄' 추진에…요양 병원들 줄폐업 위기\n",
      "\t\t\t\t\t\t\t\t\t\t\t\t\t\t\t\t\t“한국 요양 병원이 줄폐업 위기에 처했는데, 일본 요양 병원에선 이런 상황이 없었나요?”이달 초 일본 지바현 가시와시(柏市)의 ‘시 포괄 케어(돌봄) 센터’. 3박 4일 ...\n",
      "https://news.nate.com/view/20250724n00446?mid=n0200\n",
      "\n"
     ]
    },
    {
     "data": {
      "text/html": [
       "<img src=\"https://thumbnews.nateimg.co.kr/news90///news.nateimg.co.kr/orgImg/sv/2025/07/24/202094339_700.jpg\"/>"
      ],
      "text/plain": [
       "<IPython.core.display.Image object>"
      ]
     },
     "metadata": {},
     "output_type": "display_data"
    },
    {
     "name": "stdout",
     "output_type": "stream",
     "text": [
      "[단독] 네이버 자회사 취직 '영주권'…야 '아빠 찬스' 의혹\n",
      "\t\t\t\t\t\t\t\t\t\t\t\t\t\t\t\t\t<앵커>\n",
      "\n",
      "네이버 대표를 지낸 최휘영 문화체육관광부 장관 후보자의 딸이 대학 졸업 이후 네이버가 미국에 설립했던 자회사에 취직하고 영주권까지 딴 사실이...\n",
      "https://news.nate.com/view/20250724n00424?mid=n0200\n",
      "\n"
     ]
    },
    {
     "data": {
      "text/html": [
       "<img src=\"https://thumbnews.nateimg.co.kr/news90///news.nateimg.co.kr/orgImg/sv/2025/07/24/202094338_700.jpg\"/>"
      ],
      "text/plain": [
       "<IPython.core.display.Image object>"
      ]
     },
     "metadata": {},
     "output_type": "display_data"
    },
    {
     "name": "stdout",
     "output_type": "stream",
     "text": [
      "강선우 \"성찰하며 살아가겠다\"…지명 30일 만에 사퇴\n",
      "\t\t\t\t\t\t\t\t\t\t\t\t\t\t\t\t\t<앵커>\n",
      "\n",
      "보좌진 갑질 의혹에 휩싸였던 강선우 여성가족부 장관 후보자가 지명된 지 30일 만인 어제(23일) 스스로 물러났습니다. 강 후보자는 성찰하며 살아...\n",
      "https://news.nate.com/view/20250724n00402?mid=n0200\n",
      "\n",
      "윤 거부권에 막혔던 '농업2법' 통과\n",
      "\t\t\t\t\t\t\t\t\t\t\t\t\t\t\t\t\t농업 재해 범위에 ‘이상 고온’과 ‘지진’을 추가한 농·어업 재해 대책법 개정안과 자연재해로 인한 농·어업인의 손해는 보험료 할증에서 제외하는 농·어업 재해 보험법 개정안이 23일 국회 본회의를 통과했다....\n",
      "https://news.nate.com/view/20250724n00390?mid=n0200\n",
      "\n"
     ]
    },
    {
     "data": {
      "text/html": [
       "<img src=\"https://thumbnews.nateimg.co.kr/news90///news.nateimg.co.kr/orgImg/jo/2025/07/24/9d47ad32-5e6e-4cd5-bd0d-945f3d2c16f5.jpg\"/>"
      ],
      "text/plain": [
       "<IPython.core.display.Image object>"
      ]
     },
     "metadata": {},
     "output_type": "display_data"
    },
    {
     "name": "stdout",
     "output_type": "stream",
     "text": [
      "야당, 혁신은 손놓고…\"윤희숙 불렀다\" \"안 불렀다\" 촌극\n",
      "\t\t\t\t\t\t\t\t\t\t\t\t\t\t\t\t\t국민의힘 송언석 비상대책위원장 겸 원내대표(왼쪽)와 윤희숙 혁신위원장이 23일 국회 본회의 직후 열린 의원총회에서 만나 악수하고 있다. [연합뉴스] 국민의힘의 쇄신이 ...\n",
      "https://news.nate.com/view/20250724n00373?mid=n0200\n",
      "\n"
     ]
    }
   ],
   "source": [
    "print_news('정치')"
   ]
  }
 ],
 "metadata": {
  "kernelspec": {
   "display_name": "base",
   "language": "python",
   "name": "python3"
  },
  "language_info": {
   "codemirror_mode": {
    "name": "ipython",
    "version": 3
   },
   "file_extension": ".py",
   "mimetype": "text/x-python",
   "name": "python",
   "nbconvert_exporter": "python",
   "pygments_lexer": "ipython3",
   "version": "3.12.7"
  }
 },
 "nbformat": 4,
 "nbformat_minor": 5
}
