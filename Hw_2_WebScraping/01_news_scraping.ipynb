{
 "cells": [
  {
   "cell_type": "code",
   "execution_count": null,
   "metadata": {},
   "outputs": [
    {
     "name": "stdout",
     "output_type": "stream",
     "text": [
      "https://news.daum.net/economy\n",
      "<class 'requests.models.Response'>\n",
      "200\n",
      "<class 'bs4.element.ResultSet'>\n",
      "https://v.daum.net/v/20250723090912028\n",
      "[친절한 경제] 소비쿠폰 신청 열기 이어져…판매·현금화 '제재' 대상\n",
      "https://v.daum.net/v/20250723090242767\n",
      "[영상] “K-방산 극호황기 이제 시작… 추가 상승 여력 충분”\n",
      "https://v.daum.net/v/20250723082949708\n",
      "임시방편일까, 민생회복 마중물 될까··· 소비쿠폰 둘러싼 Q&A\n",
      "https://v.daum.net/v/20250723074847881\n",
      "“스포츠 감성 담았다”…‘9.58초 전설’ 육상화가 ‘스트리트 패션’ 상징으로\n",
      "https://v.daum.net/v/20250723072813583\n",
      "[스타트경제] \"소비쿠폰 싸게 팝니다\"...정부 \"적발 시 전액 환수·형사 처벌\"\n",
      "https://v.daum.net/v/20250723072526546\n",
      "서민 대출 창구 더 좁아지나…저축은행 중금리대출 5.3% ↓\n",
      "https://v.daum.net/v/20250723070652276\n",
      "이재명 정부 대출규제, 일관되게 밀고나가 ‘부동산 불패’ 끝내야\n",
      "https://v.daum.net/v/20250723070443240\n",
      "aT사장 \"기후변화 대응전략 필요…식량안보 차원서 접근해야\"\n",
      "https://v.daum.net/v/20250723070439237\n",
      "투명인간 취급 당한 노동자들 “응답하라, 정치여~”\n"
     ]
    }
   ],
   "source": [
    "import requests\n",
    "from bs4 import BeautifulSoup\n",
    "\n",
    "req_header = {\n",
    "    \"user-agent\": \"Mozilla/5.0 (Windows NT 10.0; Win64; x64) AppleWebKit/537.36 (KHTML, like Gecko) Chrome/104.0.0.0 Safari/537.36\"\n",
    "}\n",
    "\n",
    "url = 'https://news.daum.net/economy'\n",
    "res = requests.get(url,headers = req_header)\n",
    "print(url)\n",
    "print(type(res))\n",
    "print(res.status_code)\n",
    "res.encoding='uft-8'\n",
    "\n",
    "if res.ok:\n",
    "    html = res.text\n",
    "    soup = BeautifulSoup(html, \"html.parser\")\n",
    "\n",
    "    #<div class=\"cont_thum\">\n",
    "    #<strong class=\"tit_txt\">뉴스제목\n",
    "    li_tags = soup.select('ul.list_newsheadline2 li')\n",
    "    print(type(li_tags))\n",
    "\n",
    "    for news in li_tags:\n",
    "            a_tag = news.find('a')\n",
    "            link = a_tag['href']\t\n",
    "            strong_tag = news.select_one('div.cont_thumb strong.tit_txt')\n",
    "            title = strong_tag.text.strip()\n",
    "            print(link)\n",
    "            print(title)\n",
    "\n"
   ]
  },
  {
   "cell_type": "code",
   "execution_count": 4,
   "metadata": {},
   "outputs": [],
   "source": [
    "import requests\n",
    "from bs4 import BeautifulSoup\n",
    "\n",
    "section_dict = {'기후/환경':'climate','사회':'society','경제':'economy','정치':'politics','국제':'world','문화':'culture','생활':'life','IT/과학':'tech','인물':'people'}\n",
    "\n",
    "def print_news(section_name):\n",
    "    sid = section_dict[section_name]\n",
    "    url = f'https://news.daum.net/{sid}'\n",
    "\n",
    "    print(f'=====> {url} {section_name} 뉴스 <=====')\n",
    "\n",
    "    req_header = {\n",
    "        \"user-agent\": \"Mozilla/5.0 (Windows NT 10.0; Win64; x64) AppleWebKit/537.36 (KHTML, like Gecko) Chrome/104.0.0.0 Safari/537.36\"\n",
    "    }\n",
    "\n",
    "    res = requests.get(url,headers = req_header)\n",
    "    res.encoding='uft-8'\n",
    "\n",
    "    if res.ok:\n",
    "        html = res.text\n",
    "        soup = BeautifulSoup(html, \"html.parser\")\n",
    "\n",
    "        #<div class=\"cont_thum\">\n",
    "        #<strong class=\"tit_txt\">뉴스제목\n",
    "        li_tags = soup.select('ul.list_newsheadline2 li')\n",
    "\n",
    "        for news in li_tags:\n",
    "                a_tag = news.find('a')\n",
    "                link = a_tag['href']\t\n",
    "                strong_tag = news.select_one('div.cont_thumb strong.tit_txt')\n",
    "                title = strong_tag.text.strip()\n",
    "                print(link)\n",
    "                print(title)\n",
    "        "
   ]
  },
  {
   "cell_type": "code",
   "execution_count": 5,
   "metadata": {},
   "outputs": [
    {
     "name": "stdout",
     "output_type": "stream",
     "text": [
      "=====> https://news.daum.net/economy 경제 뉴스 <=====\n",
      "https://v.daum.net/v/20250723090912028\n",
      "[친절한 경제] 소비쿠폰 신청 열기 이어져…판매·현금화 '제재' 대상\n",
      "https://v.daum.net/v/20250723090242767\n",
      "[영상] “K-방산 극호황기 이제 시작… 추가 상승 여력 충분”\n",
      "https://v.daum.net/v/20250723082949708\n",
      "임시방편일까, 민생회복 마중물 될까··· 소비쿠폰 둘러싼 Q&A\n",
      "https://v.daum.net/v/20250723074847881\n",
      "“스포츠 감성 담았다”…‘9.58초 전설’ 육상화가 ‘스트리트 패션’ 상징으로\n",
      "https://v.daum.net/v/20250723072813583\n",
      "[스타트경제] \"소비쿠폰 싸게 팝니다\"...정부 \"적발 시 전액 환수·형사 처벌\"\n",
      "https://v.daum.net/v/20250723072526546\n",
      "서민 대출 창구 더 좁아지나…저축은행 중금리대출 5.3% ↓\n",
      "https://v.daum.net/v/20250723070652276\n",
      "이재명 정부 대출규제, 일관되게 밀고나가 ‘부동산 불패’ 끝내야\n",
      "https://v.daum.net/v/20250723070443240\n",
      "aT사장 \"기후변화 대응전략 필요…식량안보 차원서 접근해야\"\n",
      "https://v.daum.net/v/20250723070439237\n",
      "투명인간 취급 당한 노동자들 “응답하라, 정치여~”\n"
     ]
    }
   ],
   "source": [
    "print_news('경제')"
   ]
  }
 ],
 "metadata": {
  "kernelspec": {
   "display_name": "base",
   "language": "python",
   "name": "python3"
  },
  "language_info": {
   "codemirror_mode": {
    "name": "ipython",
    "version": 3
   },
   "file_extension": ".py",
   "mimetype": "text/x-python",
   "name": "python",
   "nbconvert_exporter": "python",
   "pygments_lexer": "ipython3",
   "version": "3.12.7"
  },
  "orig_nbformat": 4
 },
 "nbformat": 4,
 "nbformat_minor": 2
}
